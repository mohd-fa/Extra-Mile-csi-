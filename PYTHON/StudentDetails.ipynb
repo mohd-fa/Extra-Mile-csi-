{
  "nbformat": 4,
  "nbformat_minor": 0,
  "metadata": {
    "colab": {
      "provenance": []
    },
    "kernelspec": {
      "name": "python3",
      "display_name": "Python 3"
    },
    "language_info": {
      "name": "python"
    }
  },
  "cells": [
    {
      "cell_type": "code",
      "source": [
        "import pickle\n",
        "\n",
        "def  Writerecord(sroll,sname):\n",
        "    with open ('StudentRecord1.dat','ab') as Myfile:\n",
        "        srecord={\"SROLL\":sroll,\"SNAME\":sname}        \n",
        "        pickle.dump(srecord,Myfile)\n",
        "       \n",
        "def Readrecord():\n",
        "    with open ('StudentRecord1.dat','rb') as Myfile:\n",
        "        print(\"\\n-------DISPALY STUDENTS DETAILS--------\")\n",
        "        print(\"\\nRoll No.\",' ','Name','\\t',end='')\n",
        "        print()\n",
        "        while True:\n",
        "           try:\n",
        "               rec=pickle.load(Myfile)\n",
        "               print(' ',rec['SROLL'],'\\t  ' ,rec['SNAME'])\n",
        "           except EOFError:\n",
        "                break\n",
        "def Input():\n",
        "    n=int(input(\"How many records you want to create :\"))\n",
        "    for ctr in range(n):\n",
        "        sroll=int(input(\"Enter Roll No: \"))\n",
        "        sname=input(\"Enter Name: \")\n",
        "        Writerecord(sroll,sname)\n",
        "        \n",
        "def SearchRecord(roll):\n",
        "    with open ('StudentRecord1.dat','rb') as Myfile:\n",
        "       while True:\n",
        "          try:\n",
        "               rec=pickle.load(Myfile)\n",
        "               if rec['SROLL']==roll:\n",
        "                   print(\"Roll NO:\",rec['SROLL'])\n",
        "                   print(\"Name:\",rec['SNAME'])\n",
        "\n",
        "          except EOFError:\n",
        "               print(\"Record not find..............\")\n",
        "               print(\"Try Again..............\")\n",
        "               break\n",
        "\n",
        "def main():\n",
        "   \n",
        "    while True:\n",
        "        print('\\nYour Choices are: ')\n",
        "        print('1.Insert Records')\n",
        "        print('2.Dispaly Records') \n",
        "        print('3.Search Records (By Roll No)')\n",
        "        print('0.Exit (Enter 0 to exit)')\n",
        "        ch=int(input('Enter Your Choice: '))\n",
        "        if ch==1:\n",
        "            Input()\n",
        "        elif ch==2:\n",
        "            Readrecord()\n",
        "        elif ch==3:\n",
        "            r=int(input(\"Enter a Rollno to be Search: \"))\n",
        "            SearchRecord(r)\n",
        "        else:\n",
        "            break\n",
        "main()"
      ],
      "metadata": {
        "colab": {
          "base_uri": "https://localhost:8080/"
        },
        "id": "I8Mz6Mrq6yJX",
        "outputId": "4cf4b81f-c981-46d8-f342-ac2b3d148ef7"
      },
      "execution_count": 21,
      "outputs": [
        {
          "name": "stdout",
          "output_type": "stream",
          "text": [
            "\n",
            "Your Choices are: \n",
            "1.Insert Records\n",
            "2.Dispaly Records\n",
            "3.Search Records (By Roll No)\n",
            "0.Exit (Enter 0 to exit)\n",
            "Enter Your Choice: 1\n",
            "How many records you want to create :2\n",
            "Enter Roll No: 350\n",
            "Enter Name: adith\n",
            "Enter Roll No: 346\n",
            "Enter Name: abhi\n",
            "\n",
            "Your Choices are: \n",
            "1.Insert Records\n",
            "2.Dispaly Records\n",
            "3.Search Records (By Roll No)\n",
            "0.Exit (Enter 0 to exit)\n",
            "Enter Your Choice: 2\n",
            "\n",
            "-------DISPALY STUDENTS DETAILS--------\n",
            "\n",
            "Roll No.   Name \t\n",
            "  350 \t   adith\n",
            "  346 \t   abhi\n",
            "\n",
            "Your Choices are: \n",
            "1.Insert Records\n",
            "2.Dispaly Records\n",
            "3.Search Records (By Roll No)\n",
            "0.Exit (Enter 0 to exit)\n",
            "Enter Your Choice: 0\n"
          ]
        }
      ]
    }
  ]
}
