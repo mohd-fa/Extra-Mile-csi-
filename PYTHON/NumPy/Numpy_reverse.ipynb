{
  "nbformat": 4,
  "nbformat_minor": 0,
  "metadata": {
    "colab": {
      "provenance": [],
      "authorship_tag": "ABX9TyPTvNWkBXu0ldWI7MbewgqH",
      "include_colab_link": true
    },
    "kernelspec": {
      "name": "python3",
      "display_name": "Python 3"
    },
    "language_info": {
      "name": "python"
    }
  },
  "cells": [
    {
      "cell_type": "markdown",
      "metadata": {
        "id": "view-in-github",
        "colab_type": "text"
      },
      "source": [
        "<a href=\"https://colab.research.google.com/github/AkarshAnilkumar/Extra-Mile/blob/main/PYTHON/NumPy/Numpy_reverse.ipynb\" target=\"_parent\"><img src=\"https://colab.research.google.com/assets/colab-badge.svg\" alt=\"Open In Colab\"/></a>"
      ]
    },
    {
      "cell_type": "code",
      "execution_count": null,
      "metadata": {
        "id": "ePrQ3o6BR2Vi"
      },
      "outputs": [],
      "source": [
        "#Problem$1:\n",
        "#You are given a space separated list of numbers.\n",
        "#Your task is to print a reversed NumPy array with the element type float"
      ]
    },
    {
      "cell_type": "code",
      "source": [
        "import numpy\n",
        "def arrays(arr):\n",
        "  #numpy.array creates a array from an object and second parameter converts the values to float type\n",
        "    b = numpy.array(arr,float)\n",
        "  #numpy.flip is an method to reverse all the element in an ndarray.\n",
        "    fliped = numpy.flip(b)\n",
        "    return fliped\n",
        "    \n",
        "arr = input().strip().split(' ')\n",
        "result = arrays(arr)\n",
        "print(result)"
      ],
      "metadata": {
        "colab": {
          "base_uri": "https://localhost:8080/"
        },
        "id": "dWr2aFIPR3Y2",
        "outputId": "de92926d-332c-4441-8084-b122f1af3fe8"
      },
      "execution_count": 1,
      "outputs": [
        {
          "output_type": "stream",
          "name": "stdout",
          "text": [
            "10 14 15 12 6 8\n",
            "[ 8.  6. 12. 15. 14. 10.]\n"
          ]
        }
      ]
    }
  ]
}