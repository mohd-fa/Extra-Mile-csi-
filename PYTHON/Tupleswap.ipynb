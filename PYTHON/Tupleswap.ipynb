{
  "nbformat": 4,
  "nbformat_minor": 0,
  "metadata": {
    "colab": {
      "provenance": []
    },
    "kernelspec": {
      "name": "python3",
      "display_name": "Python 3"
    },
    "language_info": {
      "name": "python"
    }
  },
  "cells": [
    {
      "cell_type": "code",
      "source": [
        "t1 = tuple()\n",
        "n = int (input(\"Total no of values in First tuple: \"))\n",
        "for i in range(n):\n",
        "     a = input(\"Enter Elements : \")\n",
        "     t1 = t1 + (a,)\n",
        "t2 = tuple()\n",
        "m = int (input(\"Total no of values in Second tuple: \"))\n",
        "for i in range(m):\n",
        "     a = input(\"Enter Elements : \")\n",
        "     t2 = t2 + (a,)\n",
        "print(\"First Tuple : \")\n",
        "print(t1)\n",
        "print(\"Second Tuple : \")\n",
        "print(t2)\n",
        "\n",
        "t1,t2 = t2, t1\n",
        "\n",
        "print(\"After Swapping: \")\n",
        "print(\"First Tuple : \")\n",
        "print(t1)\n",
        "print(\"Second Tuple : \")\n",
        "print(t2)\n"
      ],
      "metadata": {
        "colab": {
          "base_uri": "https://localhost:8080/"
        },
        "id": "XsLE9E_L7zud",
        "outputId": "b44c4788-4f99-448e-c51c-8efe2410171f"
      },
      "execution_count": 22,
      "outputs": [
        {
          "output_type": "stream",
          "name": "stdout",
          "text": [
            "Total no of values in First tuple: 4\n",
            "Enter Elements : 4\n",
            "Enter Elements : 5\n",
            "Enter Elements : 6\n",
            "Enter Elements : 7\n",
            "Total no of values in Second tuple: 5\n",
            "Enter Elements : 8\n",
            "Enter Elements : 9\n",
            "Enter Elements : 11\n",
            "Enter Elements : 13\n",
            "Enter Elements : 5\n",
            "First Tuple : \n",
            "('4', '5', '6', '7')\n",
            "Second Tuple : \n",
            "('8', '9', '11', '13', '5')\n",
            "After Swapping: \n",
            "First Tuple : \n",
            "('8', '9', '11', '13', '5')\n",
            "Second Tuple : \n",
            "('4', '5', '6', '7')\n"
          ]
        }
      ]
    }
  ]
}
