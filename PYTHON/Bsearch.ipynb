{
  "nbformat": 4,
  "nbformat_minor": 0,
  "metadata": {
    "colab": {
      "provenance": []
    },
    "kernelspec": {
      "name": "python3",
      "display_name": "Python 3"
    },
    "language_info": {
      "name": "python"
    }
  },
  "cells": [
    {
      "cell_type": "code",
      "source": [
        "# Python 3 program for recursive binary search.\n",
        "# Modifications needed for the older Python 2 are found in comments.\n",
        "\n",
        "# Returns index of x in arr if present, else -1\n",
        "def binary_search(arr, low, high, x):\n",
        "\n",
        "\t# Check base case\n",
        "\tif high >= low:\n",
        "\n",
        "\t\tmid = (high + low) // 2\n",
        "\n",
        "\t\t# If element is present at the middle itself\n",
        "\t\tif arr[mid] == x:\n",
        "\t\t\treturn mid\n",
        "\n",
        "\t\t# If element is smaller than mid, then it can only\n",
        "\t\t# be present in left subarray\n",
        "\t\telif arr[mid] > x:\n",
        "\t\t\treturn binary_search(arr, low, mid - 1, x)\n",
        "\n",
        "\t\t# Else the element can only be present in right subarray\n",
        "\t\telse:\n",
        "\t\t\treturn binary_search(arr, mid + 1, high, x)\n",
        "\n",
        "\telse:\n",
        "\t\t# Element is not present in the array\n",
        "\t\treturn -1\n",
        "n=int(input(\"Enter the number of elements\"))\n",
        "arr=[]\n",
        "for i in range(n):\n",
        "  element=int(input(\"Enter the array elements\"))\n",
        "  arr.append(element)\n",
        "x=int(input(\"enter the element to be searched\"))\n",
        "# Function call\n",
        "result = binary_search(arr, 0, len(arr)-1, x)\n",
        "\n",
        "if result != -1:\n",
        "\tprint(\"Element is present at index\", str(result))\n",
        "else:\n",
        "\tprint(\"Element is not present in array\")\n"
      ],
      "metadata": {
        "colab": {
          "base_uri": "https://localhost:8080/"
        },
        "id": "eShOCKhwyaOA",
        "outputId": "ee751711-ce5d-4eb3-c0a7-5b94b5a35891"
      },
      "execution_count": 16,
      "outputs": [
        {
          "output_type": "stream",
          "name": "stdout",
          "text": [
            "Enetr the number of elements5\n",
            "Enter the array elements2\n",
            "Enter the array elements4\n",
            "Enter the array elements5\n",
            "Enter the array elements7\n",
            "Enter the array elements8\n",
            "enter the element to be searched5\n",
            "Element is present at index 2\n"
          ]
        }
      ]
    },
    {
      "cell_type": "code",
      "source": [],
      "metadata": {
        "id": "tyyMOXg-0pRj"
      },
      "execution_count": null,
      "outputs": []
    }
  ]
}
